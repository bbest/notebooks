{
 "cells": [
  {
   "cell_type": "markdown",
   "metadata": {},
   "source": [
    "# A TensorFlow tutorial"
   ]
  },
  {
   "cell_type": "code",
   "execution_count": null,
   "metadata": {
    "collapsed": true
   },
   "outputs": [],
   "source": [
    "import sys\n",
    "print(sys.version)"
   ]
  },
  {
   "cell_type": "code",
   "execution_count": null,
   "metadata": {},
   "outputs": [],
   "source": [
    "%matplotlib inline\n",
    "from matplotlib import pyplot\n",
    "import numpy as np\n",
    "import pandas as pd\n",
    "from sklearn import preprocessing\n",
    "from sklearn.model_selection import train_test_split\n",
    "from sklearn.linear_model import LogisticRegression\n",
    "from sklearn.ensemble import RandomForestClassifier\n",
    "from sklearn.metrics import log_loss\n",
    "import tensorflow as tf"
   ]
  },
  {
   "cell_type": "code",
   "execution_count": 2,
   "metadata": {
    "collapsed": true
   },
   "outputs": [],
   "source": [
    "# data source = https://www.kaggle.com/c/leaf-classification\n",
    "data = pd.read_csv('01-DATA/train.csv')"
   ]
  },
  {
   "cell_type": "code",
   "execution_count": 3,
   "metadata": {},
   "outputs": [
    {
     "data": {
      "text/plain": [
       "(990, 194)"
      ]
     },
     "execution_count": 3,
     "metadata": {},
     "output_type": "execute_result"
    }
   ],
   "source": [
    "data.shape"
   ]
  },
  {
   "cell_type": "code",
   "execution_count": 4,
   "metadata": {},
   "outputs": [
    {
     "data": {
      "text/html": [
       "<div>\n",
       "<table border=\"1\" class=\"dataframe\">\n",
       "  <thead>\n",
       "    <tr style=\"text-align: right;\">\n",
       "      <th></th>\n",
       "      <th>id</th>\n",
       "      <th>species</th>\n",
       "      <th>margin1</th>\n",
       "      <th>margin2</th>\n",
       "      <th>margin3</th>\n",
       "      <th>margin4</th>\n",
       "      <th>margin5</th>\n",
       "      <th>margin6</th>\n",
       "      <th>margin7</th>\n",
       "      <th>margin8</th>\n",
       "      <th>...</th>\n",
       "      <th>texture55</th>\n",
       "      <th>texture56</th>\n",
       "      <th>texture57</th>\n",
       "      <th>texture58</th>\n",
       "      <th>texture59</th>\n",
       "      <th>texture60</th>\n",
       "      <th>texture61</th>\n",
       "      <th>texture62</th>\n",
       "      <th>texture63</th>\n",
       "      <th>texture64</th>\n",
       "    </tr>\n",
       "  </thead>\n",
       "  <tbody>\n",
       "    <tr>\n",
       "      <th>0</th>\n",
       "      <td>1</td>\n",
       "      <td>Acer_Opalus</td>\n",
       "      <td>0.007812</td>\n",
       "      <td>0.023438</td>\n",
       "      <td>0.023438</td>\n",
       "      <td>0.003906</td>\n",
       "      <td>0.011719</td>\n",
       "      <td>0.009766</td>\n",
       "      <td>0.027344</td>\n",
       "      <td>0.0</td>\n",
       "      <td>...</td>\n",
       "      <td>0.007812</td>\n",
       "      <td>0.000000</td>\n",
       "      <td>0.002930</td>\n",
       "      <td>0.002930</td>\n",
       "      <td>0.035156</td>\n",
       "      <td>0.0</td>\n",
       "      <td>0.0</td>\n",
       "      <td>0.004883</td>\n",
       "      <td>0.000000</td>\n",
       "      <td>0.025391</td>\n",
       "    </tr>\n",
       "    <tr>\n",
       "      <th>1</th>\n",
       "      <td>2</td>\n",
       "      <td>Pterocarya_Stenoptera</td>\n",
       "      <td>0.005859</td>\n",
       "      <td>0.000000</td>\n",
       "      <td>0.031250</td>\n",
       "      <td>0.015625</td>\n",
       "      <td>0.025391</td>\n",
       "      <td>0.001953</td>\n",
       "      <td>0.019531</td>\n",
       "      <td>0.0</td>\n",
       "      <td>...</td>\n",
       "      <td>0.000977</td>\n",
       "      <td>0.000000</td>\n",
       "      <td>0.000000</td>\n",
       "      <td>0.000977</td>\n",
       "      <td>0.023438</td>\n",
       "      <td>0.0</td>\n",
       "      <td>0.0</td>\n",
       "      <td>0.000977</td>\n",
       "      <td>0.039062</td>\n",
       "      <td>0.022461</td>\n",
       "    </tr>\n",
       "    <tr>\n",
       "      <th>2</th>\n",
       "      <td>3</td>\n",
       "      <td>Quercus_Hartwissiana</td>\n",
       "      <td>0.005859</td>\n",
       "      <td>0.009766</td>\n",
       "      <td>0.019531</td>\n",
       "      <td>0.007812</td>\n",
       "      <td>0.003906</td>\n",
       "      <td>0.005859</td>\n",
       "      <td>0.068359</td>\n",
       "      <td>0.0</td>\n",
       "      <td>...</td>\n",
       "      <td>0.154300</td>\n",
       "      <td>0.000000</td>\n",
       "      <td>0.005859</td>\n",
       "      <td>0.000977</td>\n",
       "      <td>0.007812</td>\n",
       "      <td>0.0</td>\n",
       "      <td>0.0</td>\n",
       "      <td>0.000000</td>\n",
       "      <td>0.020508</td>\n",
       "      <td>0.002930</td>\n",
       "    </tr>\n",
       "    <tr>\n",
       "      <th>3</th>\n",
       "      <td>5</td>\n",
       "      <td>Tilia_Tomentosa</td>\n",
       "      <td>0.000000</td>\n",
       "      <td>0.003906</td>\n",
       "      <td>0.023438</td>\n",
       "      <td>0.005859</td>\n",
       "      <td>0.021484</td>\n",
       "      <td>0.019531</td>\n",
       "      <td>0.023438</td>\n",
       "      <td>0.0</td>\n",
       "      <td>...</td>\n",
       "      <td>0.000000</td>\n",
       "      <td>0.000977</td>\n",
       "      <td>0.000000</td>\n",
       "      <td>0.000000</td>\n",
       "      <td>0.020508</td>\n",
       "      <td>0.0</td>\n",
       "      <td>0.0</td>\n",
       "      <td>0.017578</td>\n",
       "      <td>0.000000</td>\n",
       "      <td>0.047852</td>\n",
       "    </tr>\n",
       "    <tr>\n",
       "      <th>4</th>\n",
       "      <td>6</td>\n",
       "      <td>Quercus_Variabilis</td>\n",
       "      <td>0.005859</td>\n",
       "      <td>0.003906</td>\n",
       "      <td>0.048828</td>\n",
       "      <td>0.009766</td>\n",
       "      <td>0.013672</td>\n",
       "      <td>0.015625</td>\n",
       "      <td>0.005859</td>\n",
       "      <td>0.0</td>\n",
       "      <td>...</td>\n",
       "      <td>0.096680</td>\n",
       "      <td>0.000000</td>\n",
       "      <td>0.021484</td>\n",
       "      <td>0.000000</td>\n",
       "      <td>0.000000</td>\n",
       "      <td>0.0</td>\n",
       "      <td>0.0</td>\n",
       "      <td>0.000000</td>\n",
       "      <td>0.000000</td>\n",
       "      <td>0.031250</td>\n",
       "    </tr>\n",
       "  </tbody>\n",
       "</table>\n",
       "<p>5 rows × 194 columns</p>\n",
       "</div>"
      ],
      "text/plain": [
       "   id                species   margin1   margin2   margin3   margin4  \\\n",
       "0   1            Acer_Opalus  0.007812  0.023438  0.023438  0.003906   \n",
       "1   2  Pterocarya_Stenoptera  0.005859  0.000000  0.031250  0.015625   \n",
       "2   3   Quercus_Hartwissiana  0.005859  0.009766  0.019531  0.007812   \n",
       "3   5        Tilia_Tomentosa  0.000000  0.003906  0.023438  0.005859   \n",
       "4   6     Quercus_Variabilis  0.005859  0.003906  0.048828  0.009766   \n",
       "\n",
       "    margin5   margin6   margin7  margin8    ...      texture55  texture56  \\\n",
       "0  0.011719  0.009766  0.027344      0.0    ...       0.007812   0.000000   \n",
       "1  0.025391  0.001953  0.019531      0.0    ...       0.000977   0.000000   \n",
       "2  0.003906  0.005859  0.068359      0.0    ...       0.154300   0.000000   \n",
       "3  0.021484  0.019531  0.023438      0.0    ...       0.000000   0.000977   \n",
       "4  0.013672  0.015625  0.005859      0.0    ...       0.096680   0.000000   \n",
       "\n",
       "   texture57  texture58  texture59  texture60  texture61  texture62  \\\n",
       "0   0.002930   0.002930   0.035156        0.0        0.0   0.004883   \n",
       "1   0.000000   0.000977   0.023438        0.0        0.0   0.000977   \n",
       "2   0.005859   0.000977   0.007812        0.0        0.0   0.000000   \n",
       "3   0.000000   0.000000   0.020508        0.0        0.0   0.017578   \n",
       "4   0.021484   0.000000   0.000000        0.0        0.0   0.000000   \n",
       "\n",
       "   texture63  texture64  \n",
       "0   0.000000   0.025391  \n",
       "1   0.039062   0.022461  \n",
       "2   0.020508   0.002930  \n",
       "3   0.000000   0.047852  \n",
       "4   0.000000   0.031250  \n",
       "\n",
       "[5 rows x 194 columns]"
      ]
     },
     "execution_count": 4,
     "metadata": {},
     "output_type": "execute_result"
    }
   ],
   "source": [
    "data.head()"
   ]
  },
  {
   "cell_type": "code",
   "execution_count": 5,
   "metadata": {},
   "outputs": [
    {
     "data": {
      "text/plain": [
       "99"
      ]
     },
     "execution_count": 5,
     "metadata": {},
     "output_type": "execute_result"
    }
   ],
   "source": [
    "nb_classes = len(data['species'].unique())\n",
    "nb_classes"
   ]
  },
  {
   "cell_type": "code",
   "execution_count": 6,
   "metadata": {
    "collapsed": true
   },
   "outputs": [],
   "source": [
    "le = preprocessing.LabelEncoder()"
   ]
  },
  {
   "cell_type": "code",
   "execution_count": 7,
   "metadata": {
    "collapsed": true
   },
   "outputs": [],
   "source": [
    "y = le.fit_transform(data['species'])"
   ]
  },
  {
   "cell_type": "code",
   "execution_count": 8,
   "metadata": {
    "collapsed": true
   },
   "outputs": [],
   "source": [
    "X = data.drop('id', 1).drop('species', 1)"
   ]
  },
  {
   "cell_type": "code",
   "execution_count": 9,
   "metadata": {
    "collapsed": true
   },
   "outputs": [],
   "source": [
    "X_train, X_test, y_train, y_test = train_test_split(X, y, stratify=y, random_state=487)"
   ]
  },
  {
   "cell_type": "markdown",
   "metadata": {},
   "source": [
    "# Logistic Regression"
   ]
  },
  {
   "cell_type": "code",
   "execution_count": 10,
   "metadata": {},
   "outputs": [
    {
     "name": "stdout",
     "output_type": "stream",
     "text": [
      "4.23374595993\n"
     ]
    }
   ],
   "source": [
    "clf = LogisticRegression()\n",
    "clf.fit(X_train, y_train)\n",
    "print log_loss(y_test, clf.predict_proba(X_test))"
   ]
  },
  {
   "cell_type": "markdown",
   "metadata": {},
   "source": [
    "# Random Forest"
   ]
  },
  {
   "cell_type": "code",
   "execution_count": 11,
   "metadata": {},
   "outputs": [
    {
     "name": "stdout",
     "output_type": "stream",
     "text": [
      "1.80428024212\n"
     ]
    }
   ],
   "source": [
    "clf = RandomForestClassifier()\n",
    "clf.fit(X_train, y_train)\n",
    "preds = clf.predict(X_test)\n",
    "print log_loss(y_test, clf.predict_proba(X_test))"
   ]
  },
  {
   "cell_type": "markdown",
   "metadata": {
    "collapsed": true
   },
   "source": [
    "# TensorFlow"
   ]
  },
  {
   "cell_type": "code",
   "execution_count": 12,
   "metadata": {
    "collapsed": true
   },
   "outputs": [],
   "source": [
    "graph = tf.Graph()\n",
    "with graph.as_default():\n",
    "    X_train_tf = tf.constant(np.array(X_train).astype(np.float32))\n",
    "    y_train_tf = tf.constant((np.arange(nb_classes) == y_train[:,None]).astype(np.float32))\n",
    "    X_test_tf = tf.constant(np.array(X_test).astype(np.float32))\n",
    "    y_test_tf = tf.constant((np.arange(nb_classes) == y_test[:,None]).astype(np.float32))\n",
    "    \n",
    "    weights = tf.Variable(\n",
    "        tf.truncated_normal([X.shape[1], nb_classes]))\n",
    "    biases = tf.Variable(tf.zeros([nb_classes]))\n",
    "\n",
    "    logits = tf.matmul(X_train_tf, weights) + biases\n",
    "    loss = tf.reduce_mean(tf.nn.softmax_cross_entropy_with_logits(logits, y_train_tf))\n",
    "    optimizer = tf.train.GradientDescentOptimizer(0.8).minimize(loss)\n",
    "    \n",
    "    train_prediction = tf.nn.softmax(logits)\n",
    "    test_prediction = tf.nn.softmax(tf.matmul(X_test_tf, weights) + biases)"
   ]
  },
  {
   "cell_type": "code",
   "execution_count": 13,
   "metadata": {},
   "outputs": [
    {
     "name": "stdout",
     "output_type": "stream",
     "text": [
      "Train Loss at step 0: 4.624413\n",
      "Valid Loss: 4.631759\n",
      "Train Loss at step 1000: 4.137475\n",
      "Valid Loss: 4.195310\n",
      "Train Loss at step 2000: 3.732263\n",
      "Valid Loss: 3.823207\n",
      "Train Loss at step 3000: 3.384432\n",
      "Valid Loss: 3.503140\n",
      "Train Loss at step 4000: 3.086440\n",
      "Valid Loss: 3.228689\n",
      "Train Loss at step 5000: 2.829750\n",
      "Valid Loss: 2.991925\n",
      "Train Loss at step 6000: 2.606733\n",
      "Valid Loss: 2.785802\n",
      "Train Loss at step 7000: 2.411375\n",
      "Valid Loss: 2.604877\n",
      "Train Loss at step 8000: 2.239062\n",
      "Valid Loss: 2.445024\n",
      "Train Loss at step 9000: 2.086184\n",
      "Valid Loss: 2.303040\n",
      "Train Loss at step 10000: 1.949856\n",
      "Valid Loss: 2.176355\n"
     ]
    }
   ],
   "source": [
    "num_steps = 10001\n",
    "train_loss = []\n",
    "test_loss = []\n",
    "\n",
    "with tf.Session(graph=graph) as session:\n",
    "    tf.global_variables_initializer().run()\n",
    "    for step in range(num_steps):\n",
    "        _, l, predictions = session.run([optimizer, loss, train_prediction])\n",
    "        if (step % 1000 == 0):\n",
    "            train_loss.append(l)\n",
    "            test_loss.append(log_loss(y_test, test_prediction.eval()))\n",
    "            print('Train Loss at step %d: %f' % (step, l))\n",
    "            print('Valid Loss: %f'% log_loss(y_test, test_prediction.eval()))"
   ]
  },
  {
   "cell_type": "code",
   "execution_count": 14,
   "metadata": {},
   "outputs": [
    {
     "data": {
      "image/png": "[encoded data removed]",
      "text/plain": [
       "<matplotlib.figure.Figure at 0x11c3f8810>"
      ]
     },
     "metadata": {},
     "output_type": "display_data"
    }
   ],
   "source": [
    "pyplot.plot(train_loss, linewidth=3, label=\"train loss\")\n",
    "pyplot.plot(test_loss, linewidth=3, label=\"valid loss\")\n",
    "pyplot.grid()\n",
    "pyplot.legend()\n",
    "pyplot.xlabel(\"epoch\")\n",
    "pyplot.ylabel(\"loss\")\n",
    "pyplot.show()"
   ]
  },
  {
   "cell_type": "markdown",
   "metadata": {},
   "source": [
    "# Mini Batch"
   ]
  },
  {
   "cell_type": "markdown",
   "metadata": {},
   "source": [
    "#### Mini Batch allows a faster gradient descent"
   ]
  },
  {
   "cell_type": "code",
   "execution_count": 15,
   "metadata": {
    "collapsed": true
   },
   "outputs": [],
   "source": [
    "batch_size = 64\n",
    "\n",
    "graph = tf.Graph()\n",
    "with graph.as_default():\n",
    "    X_train_tf = tf.placeholder(tf.float32,\n",
    "                                    shape=(batch_size, X.shape[1]))\n",
    "    y_train_tf = tf.placeholder(tf.float32, shape=(batch_size, nb_classes))\n",
    "    X_test_tf = tf.constant(np.array(X_test).astype(np.float32))\n",
    "    y_test_tf = tf.constant((np.arange(nb_classes) == y_test[:,None]).astype(np.float32))\n",
    "    \n",
    "    weights = tf.Variable(\n",
    "        tf.truncated_normal([X.shape[1], nb_classes]))\n",
    "    biases = tf.Variable(tf.zeros([nb_classes]))\n",
    "\n",
    "    logits = tf.matmul(X_train_tf, weights) + biases\n",
    "    loss = tf.reduce_mean(tf.nn.softmax_cross_entropy_with_logits(logits, y_train_tf))\n",
    "    optimizer = tf.train.GradientDescentOptimizer(0.8).minimize(loss)\n",
    "    \n",
    "    train_prediction = tf.nn.softmax(logits)\n",
    "    test_prediction = tf.nn.softmax(tf.matmul(X_test_tf, weights) + biases)"
   ]
  },
  {
   "cell_type": "code",
   "execution_count": 16,
   "metadata": {},
   "outputs": [
    {
     "name": "stdout",
     "output_type": "stream",
     "text": [
      "Train Loss at step 0: 4.617716\n",
      "Valid Loss: 4.640052\n",
      "Train Loss at step 4000: 3.103014\n",
      "Valid Loss: 3.245315\n",
      "Train Loss at step 8000: 2.139842\n",
      "Valid Loss: 2.453359\n",
      "Train Loss at step 12000: 1.759780\n",
      "Valid Loss: 1.968372\n",
      "Train Loss at step 16000: 1.318464\n",
      "Valid Loss: 1.650348\n",
      "Train Loss at step 20000: 1.119166\n",
      "Valid Loss: 1.427687\n",
      "Train Loss at step 24000: 0.949450\n",
      "Valid Loss: 1.267724\n",
      "Train Loss at step 28000: 0.779175\n",
      "Valid Loss: 1.146158\n",
      "Train Loss at step 32000: 0.690034\n",
      "Valid Loss: 1.052394\n",
      "Train Loss at step 36000: 0.688905\n",
      "Valid Loss: 0.978355\n",
      "Train Loss at step 40000: 0.530511\n",
      "Valid Loss: 0.917245\n",
      "Train Loss at step 44000: 0.473384\n",
      "Valid Loss: 0.867600\n",
      "Train Loss at step 48000: 0.526159\n",
      "Valid Loss: 0.825346\n",
      "Train Loss at step 52000: 0.430732\n",
      "Valid Loss: 0.789898\n",
      "Train Loss at step 56000: 0.343112\n",
      "Valid Loss: 0.759255\n",
      "Train Loss at step 60000: 0.403765\n",
      "Valid Loss: 0.732507\n",
      "Train Loss at step 64000: 0.368342\n",
      "Valid Loss: 0.709447\n",
      "Train Loss at step 68000: 0.287409\n",
      "Valid Loss: 0.688575\n"
     ]
    }
   ],
   "source": [
    "num_steps = 70001\n",
    "train_loss = []\n",
    "test_loss = []\n",
    "\n",
    "with tf.Session(graph=graph) as session:\n",
    "    tf.global_variables_initializer().run()\n",
    "    for step in range(num_steps):\n",
    "        # Pick an offset within the training data, which has been randomized.\n",
    "        # Note: we could use better randomization across epochs.\n",
    "        offset = (step * batch_size) % (len(y_train) - batch_size)\n",
    "        # Generate a minibatch.\n",
    "        batch_data = np.array(X_train)[offset:(offset + batch_size), :]\n",
    "        batch_labels = y_train[offset:(offset + batch_size)]\n",
    "        batch_labels = (np.arange(nb_classes) == batch_labels[:,None]).astype(np.float32)\n",
    "        # Prepare a dictionary telling the session where to feed the minibatch.\n",
    "        # The key of the dictionary is the placeholder node of the graph to be fed,\n",
    "        # and the value is the numpy array to feed to it.\n",
    "        feed_dict = {X_train_tf : batch_data, y_train_tf : batch_labels}\n",
    "        _, l, predictions = session.run(\n",
    "              [optimizer, loss, train_prediction], feed_dict=feed_dict)\n",
    "        if (step % 4000 == 0):\n",
    "            train_loss.append(l)\n",
    "            test_loss.append(log_loss(y_test, test_prediction.eval()))\n",
    "            print('Train Loss at step %d: %f' % (step, l))\n",
    "            print('Valid Loss: %f'% log_loss(y_test, test_prediction.eval()))"
   ]
  },
  {
   "cell_type": "code",
   "execution_count": 17,
   "metadata": {},
   "outputs": [
    {
     "data": {
      "image/png": "[encoded data removed]",
      "text/plain": [
       "<matplotlib.figure.Figure at 0x12014d3d0>"
      ]
     },
     "metadata": {},
     "output_type": "display_data"
    }
   ],
   "source": [
    "pyplot.plot(train_loss, linewidth=3, label=\"train loss\")\n",
    "pyplot.plot(test_loss, linewidth=3, label=\"valid loss\")\n",
    "pyplot.grid()\n",
    "pyplot.legend()\n",
    "pyplot.xlabel(\"epoch\")\n",
    "pyplot.ylabel(\"loss\")\n",
    "pyplot.show()"
   ]
  },
  {
   "cell_type": "markdown",
   "metadata": {},
   "source": [
    "# Mini Batch with Relu and 256 hidden layers"
   ]
  },
  {
   "cell_type": "markdown",
   "metadata": {},
   "source": [
    "#### Increasing network complexity and introducing non-linearities should improve performance "
   ]
  },
  {
   "cell_type": "code",
   "execution_count": 18,
   "metadata": {
    "collapsed": true
   },
   "outputs": [],
   "source": [
    "batch_size = 128\n",
    "train_loss = []\n",
    "test_loss = []\n",
    "\n",
    "graph = tf.Graph()\n",
    "with graph.as_default():\n",
    "    X_train_tf = tf.placeholder(tf.float32,\n",
    "                                    shape=(batch_size, X.shape[1]))\n",
    "    y_train_tf = tf.placeholder(tf.float32, shape=(batch_size, nb_classes))\n",
    "    X_test_tf = tf.constant(np.array(X_test).astype(np.float32))\n",
    "    y_test_tf = tf.constant((np.arange(nb_classes) == y_test[:,None]).astype(np.float32))\n",
    "    \n",
    "    weights1 = tf.Variable(\n",
    "        tf.truncated_normal([X.shape[1], 256]))\n",
    "    biases1 = tf.Variable(tf.zeros([256]))\n",
    "    \n",
    "    weights2 = tf.Variable(\n",
    "        tf.truncated_normal([256, nb_classes]))\n",
    "    biases2 = tf.Variable(tf.zeros([nb_classes]))\n",
    "\n",
    "    h1 = tf.nn.relu(tf.matmul(X_train_tf, weights1) + biases1)\n",
    "    logits = tf.matmul(h1, weights2) + biases2\n",
    "    loss = tf.reduce_mean(tf.nn.softmax_cross_entropy_with_logits(logits, y_train_tf))\n",
    "    optimizer = tf.train.GradientDescentOptimizer(0.1).minimize(loss)\n",
    "    \n",
    "    train_prediction = tf.nn.softmax(logits)\n",
    "    test_prediction_h1 = tf.nn.relu(tf.matmul(X_test_tf, weights1) + biases1)\n",
    "    test_prediction = tf.nn.softmax(tf.matmul(test_prediction_h1, weights2) + biases2)"
   ]
  },
  {
   "cell_type": "code",
   "execution_count": 19,
   "metadata": {},
   "outputs": [
    {
     "name": "stdout",
     "output_type": "stream",
     "text": [
      "Train Loss at step 0: 9.716219\n",
      "Valid Loss: 8.543947\n",
      "Train Loss at step 1000: 1.845988\n",
      "Valid Loss: 2.275506\n",
      "Train Loss at step 2000: 0.903404\n",
      "Valid Loss: 1.362468\n",
      "Train Loss at step 3000: 0.411469\n",
      "Valid Loss: 1.036987\n",
      "Train Loss at step 4000: 0.260850\n",
      "Valid Loss: 0.879940\n",
      "Train Loss at step 5000: 0.185567\n",
      "Valid Loss: 0.794446\n",
      "Train Loss at step 6000: 0.166375\n",
      "Valid Loss: 0.734401\n",
      "Train Loss at step 7000: 0.136283\n",
      "Valid Loss: 0.694401\n",
      "Train Loss at step 8000: 0.100913\n",
      "Valid Loss: 0.662252\n",
      "Train Loss at step 9000: 0.101982\n",
      "Valid Loss: 0.641285\n",
      "Train Loss at step 10000: 0.071903\n",
      "Valid Loss: 0.620439\n",
      "Train Loss at step 11000: 0.074838\n",
      "Valid Loss: 0.603872\n",
      "Train Loss at step 12000: 0.061306\n",
      "Valid Loss: 0.589687\n",
      "Train Loss at step 13000: 0.064904\n",
      "Valid Loss: 0.579660\n",
      "Train Loss at step 14000: 0.047869\n",
      "Valid Loss: 0.569570\n",
      "Train Loss at step 15000: 0.071436\n",
      "Valid Loss: 0.559656\n",
      "Train Loss at step 16000: 0.040468\n",
      "Valid Loss: 0.553105\n",
      "Train Loss at step 17000: 0.067016\n",
      "Valid Loss: 0.547071\n",
      "Train Loss at step 18000: 0.032301\n",
      "Valid Loss: 0.541087\n",
      "Train Loss at step 19000: 0.036903\n",
      "Valid Loss: 0.535128\n"
     ]
    }
   ],
   "source": [
    "num_steps = 20000\n",
    "\n",
    "with tf.Session(graph=graph) as session:\n",
    "    tf.global_variables_initializer().run()\n",
    "    for step in range(num_steps):\n",
    "        # Pick an offset within the training data, which has been randomized.\n",
    "        # Note: we could use better randomization across epochs.\n",
    "        offset = (step * batch_size) % (len(y_train) - batch_size)\n",
    "        # Generate a minibatch.\n",
    "        batch_data = np.array(X_train)[offset:(offset + batch_size), :]\n",
    "        batch_labels = y_train[offset:(offset + batch_size)]\n",
    "        batch_labels = (np.arange(nb_classes) == batch_labels[:,None]).astype(np.float32)\n",
    "        # Prepare a dictionary telling the session where to feed the minibatch.\n",
    "        # The key of the dictionary is the placeholder node of the graph to be fed,\n",
    "        # and the value is the numpy array to feed to it.\n",
    "        feed_dict = {X_train_tf : batch_data, y_train_tf : batch_labels}\n",
    "        _, l, predictions = session.run(\n",
    "              [optimizer, loss, train_prediction], feed_dict=feed_dict)\n",
    "        if (step % 1000 == 0):\n",
    "            train_loss.append(l)\n",
    "            test_loss.append(log_loss(y_test, test_prediction.eval()))\n",
    "            print('Train Loss at step %d: %f' % (step, l))\n",
    "            print('Valid Loss: %f'% log_loss(y_test, test_prediction.eval()))"
   ]
  },
  {
   "cell_type": "code",
   "execution_count": 20,
   "metadata": {},
   "outputs": [
    {
     "data": {
      "image/png": "[encoded data removed]",
      "text/plain": [
       "<matplotlib.figure.Figure at 0x1206ac490>"
      ]
     },
     "metadata": {},
     "output_type": "display_data"
    }
   ],
   "source": [
    "pyplot.plot(train_loss, linewidth=3, label=\"train loss\")\n",
    "pyplot.plot(test_loss, linewidth=3, label=\"valid loss\")\n",
    "pyplot.grid()\n",
    "pyplot.legend()\n",
    "pyplot.ylim(0, 3.0)\n",
    "pyplot.xlabel(\"epoch\")\n",
    "pyplot.ylabel(\"loss\")\n",
    "pyplot.show()"
   ]
  },
  {
   "cell_type": "markdown",
   "metadata": {
    "collapsed": true
   },
   "source": [
    "#### Train loss is far lower than valid loss : we probably overfit, but still valid loss is not so bad ;)"
   ]
  },
  {
   "cell_type": "code",
   "execution_count": null,
   "metadata": {
    "collapsed": true
   },
   "outputs": [],
   "source": []
  }
 ],
 "metadata": {
  "kernelspec": {
   "display_name": "Python 2",
   "language": "python",
   "name": "python2"
  },
  "language_info": {
   "codemirror_mode": {
    "name": "ipython",
    "version": 2
   },
   "file_extension": ".py",
   "mimetype": "text/x-python",
   "name": "python",
   "nbconvert_exporter": "python",
   "pygments_lexer": "ipython2",
   "version": "2.7.13"
  }
 },
 "nbformat": 4,
 "nbformat_minor": 1
}
